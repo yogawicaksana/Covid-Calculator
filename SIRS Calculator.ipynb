{
 "cells": [
  {
   "cell_type": "code",
   "execution_count": null,
   "metadata": {},
   "outputs": [],
   "source": [
    "print(\"Welcome to the SIRS Calculator\")"
   ]
  },
  {
   "cell_type": "code",
   "execution_count": null,
   "metadata": {},
   "outputs": [],
   "source": [
    "SIRS_score = 0"
   ]
  },
  {
   "cell_type": "markdown",
   "metadata": {},
   "source": [
    "# Temperature"
   ]
  },
  {
   "cell_type": "code",
   "execution_count": 3,
   "metadata": {
    "scrolled": true
   },
   "outputs": [
    {
     "name": "stdout",
     "output_type": "stream",
     "text": [
      "What is the patient's temperature?37.8\n"
     ]
    }
   ],
   "source": [
    "while True:\n",
    "    temp = input(\"What is the patient's temperature?\")\n",
    "    try:\n",
    "        temp = float(temp)\n",
    "    except ValueError:\n",
    "        print(\"That was not a valid number. Please enter a number.\")\n",
    "        continue\n",
    "    else:    \n",
    "        break"
   ]
  },
  {
   "cell_type": "code",
   "execution_count": 4,
   "metadata": {
    "scrolled": false
   },
   "outputs": [
    {
     "name": "stdout",
     "output_type": "stream",
     "text": [
      "The temperature is 37.8\n",
      "The temperature is normal.\n",
      "Points: 0\n"
     ]
    }
   ],
   "source": [
    "print(f\"The temperature is {temp}\")\n",
    "\n",
    "if temp > 38.5 or temp < 37.5:\n",
    "    SIRS_score += 1\n",
    "    print(f\"Points: {SIRS_score}\")\n",
    "else:\n",
    "    print(\"The temperature is normal.\")\n",
    "    print(f\"Points: {SIRS_score}\")"
   ]
  },
  {
   "cell_type": "markdown",
   "metadata": {},
   "source": [
    "# Respiratory rate"
   ]
  },
  {
   "cell_type": "code",
   "execution_count": 5,
   "metadata": {},
   "outputs": [
    {
     "name": "stdout",
     "output_type": "stream",
     "text": [
      "What is the patient's respiratory rate?20\n",
      "What is the patient's PaCO2? (mmHg)36\n"
     ]
    }
   ],
   "source": [
    "while True:\n",
    "    respRate = input(\"What is the patient's respiratory rate?\")\n",
    "    try:\n",
    "        respRate = int(respRate)\n",
    "    except ValueError:\n",
    "        print(\"That was not a valid whole number. Please enter a number.\")\n",
    "        continue\n",
    "    else:    \n",
    "        break\n",
    "        \n",
    "while True:   \n",
    "    paCO2 = input(\"What is the patient's PaCO2? (mmHg)\")\n",
    "    try:\n",
    "        paCO2 = int(paCO2)\n",
    "    except ValueError:\n",
    "        print(\"That was not a valid whole number. Please enter a number.\")\n",
    "        continue\n",
    "    else:    \n",
    "        break"
   ]
  },
  {
   "cell_type": "code",
   "execution_count": 6,
   "metadata": {},
   "outputs": [
    {
     "name": "stdout",
     "output_type": "stream",
     "text": [
      "The respiratory is 20 and the PaCO2 is 36\n",
      "Both are normal.\n",
      "Points: 0\n"
     ]
    }
   ],
   "source": [
    "print(f\"The respiratory is {respRate} and the PaCO2 is {paCO2}\")\n",
    "\n",
    "if respRate > 20 or paCO2 < 32:\n",
    "    SIRS_score += 1\n",
    "    print(f\"Points: {SIRS_score}\")\n",
    "else:\n",
    "    print(\"Both are normal.\")\n",
    "    print(f\"Points: {SIRS_score}\")"
   ]
  },
  {
   "cell_type": "markdown",
   "metadata": {},
   "source": [
    "# Heart Rate "
   ]
  },
  {
   "cell_type": "code",
   "execution_count": 7,
   "metadata": {},
   "outputs": [
    {
     "name": "stdout",
     "output_type": "stream",
     "text": [
      "What is the patient's heart rate?93\n"
     ]
    }
   ],
   "source": [
    "while True:\n",
    "    heartRate = input(\"What is the patient's heart rate?\")\n",
    "    try:\n",
    "        heartRate = int(heartRate)\n",
    "    except ValueError:\n",
    "        print(\"That was not a valid number. Please enter a whole number.\")\n",
    "        continue\n",
    "    else:    \n",
    "        break"
   ]
  },
  {
   "cell_type": "code",
   "execution_count": 8,
   "metadata": {},
   "outputs": [
    {
     "name": "stdout",
     "output_type": "stream",
     "text": [
      "The heart rate is 93\n",
      "Points: 1\n"
     ]
    }
   ],
   "source": [
    "print(f\"The heart rate is {heartRate}\")\n",
    "\n",
    "if heartRate > 90:\n",
    "    SIRS_score += 1\n",
    "    print(f\"Points: {SIRS_score}\")\n",
    "else:\n",
    "    print(\"The heart rate is normal.\")\n",
    "    print(f\"Points: {SIRS_score}\")"
   ]
  },
  {
   "cell_type": "markdown",
   "metadata": {},
   "source": [
    "# White cell count"
   ]
  },
  {
   "cell_type": "code",
   "execution_count": 9,
   "metadata": {},
   "outputs": [
    {
     "name": "stdout",
     "output_type": "stream",
     "text": [
      "What is the patient's white blood cell count? (x10^9/L)15\n"
     ]
    }
   ],
   "source": [
    "while True:\n",
    "    wcc = input(\"What is the patient's white blood cell count? (x10^9/L)\")\n",
    "    try:\n",
    "        wcc = float(wcc)\n",
    "    except ValueError:\n",
    "        print(\"That was not a valid number. Please enter a number.\")\n",
    "        continue\n",
    "    else:    \n",
    "        break"
   ]
  },
  {
   "cell_type": "code",
   "execution_count": 10,
   "metadata": {},
   "outputs": [
    {
     "name": "stdout",
     "output_type": "stream",
     "text": [
      "The white cell count is 15.0 x10^9/L\n",
      "Points: 2\n"
     ]
    }
   ],
   "source": [
    "print(f\"The white cell count is {wcc} x10^9/L\")\n",
    "\n",
    "if wcc > 12 or wcc < 4:\n",
    "    SIRS_score += 1\n",
    "    print(f\"Points: {SIRS_score}\")\n",
    "else:\n",
    "    print(\"The while cell count is normal.\")\n",
    "    print(f\"Points: {SIRS_score}\")"
   ]
  },
  {
   "cell_type": "markdown",
   "metadata": {},
   "source": [
    "# Report final result"
   ]
  },
  {
   "cell_type": "code",
   "execution_count": 11,
   "metadata": {},
   "outputs": [
    {
     "name": "stdout",
     "output_type": "stream",
     "text": [
      "The total SIRS score is 2\n",
      "The criteria for SIRS are met. The patient has SIRS.\n"
     ]
    }
   ],
   "source": [
    "print(f\"The total SIRS score is {SIRS_score}\")\n",
    "\n",
    "if SIRS_score >= 2:\n",
    "    print(\"The criteria for SIRS are met. The patient has SIRS.\")\n",
    "else:\n",
    "    print(\"The criteria are not met. The patient does not have.\")"
   ]
  },
  {
   "cell_type": "code",
   "execution_count": null,
   "metadata": {},
   "outputs": [],
   "source": []
  }
 ],
 "metadata": {
  "kernelspec": {
   "display_name": "Python 3",
   "language": "python",
   "name": "python3"
  },
  "language_info": {
   "codemirror_mode": {
    "name": "ipython",
    "version": 3
   },
   "file_extension": ".py",
   "mimetype": "text/x-python",
   "name": "python",
   "nbconvert_exporter": "python",
   "pygments_lexer": "ipython3",
   "version": "3.7.4"
  }
 },
 "nbformat": 4,
 "nbformat_minor": 2
}
